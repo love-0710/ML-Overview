{
 "cells": [
  {
   "cell_type": "code",
   "execution_count": 4,
   "metadata": {},
   "outputs": [],
   "source": [
    "import pandas as pd\n",
    "from sklearn.model_selection import train_test_split\n",
    "from sklearn.ensemble import RandomForestClassifier\n",
    "from sklearn.metrics import accuracy_score\n",
    "from sklearn.manifold import TSNE\n",
    "import pickle\n",
    "import numpy as np\n",
    "\n",
    "# Load datasets\n",
    "# Assuming you have the EOG and EMG data\n",
    "df=pd.read_excel('EOGsignal.xlsx').iloc[:, 1:]\n",
    "# Rename the columns\n",
    "new_column_names = ['f' + str(i) for i in range(0, 24)] + ['class']\n",
    "df.columns = new_column_names\n",
    "\n",
    "eog_data = df\n",
    "emg_data = pd.read_csv('EMGF1.csv')\n",
    "\n",
    "# Assuming the last column is the label for both datasets\n",
    "X_eog = eog_data.iloc[:, :-1].values\n",
    "y_eog = eog_data.iloc[:, -1].values\n",
    "\n",
    "X_emg = emg_data.iloc[:, :-1].values\n",
    "y_emg = emg_data.iloc[:, -1].values\n",
    "\n",
    "# Split into train and test sets\n",
    "X_eog_train, X_eog_test, y_eog_train, y_eog_test = train_test_split(X_eog, y_eog, test_size=0.1, random_state=42)\n",
    "X_emg_train, X_emg_test, y_emg_train, y_emg_test = train_test_split(X_emg, y_emg, test_size=0.2, random_state=42)\n",
    "\n",
    "# Save the test labels\n",
    "y_test_combined = np.concatenate((y_eog_test, y_emg_test))\n",
    "np.save('y_test_combined.npy', y_test_combined)\n"
   ]
  },
  {
   "cell_type": "markdown",
   "metadata": {},
   "source": [
    "**Ensemble and test**"
   ]
  },
  {
   "cell_type": "code",
   "execution_count": 32,
   "metadata": {},
   "outputs": [
    {
     "name": "stderr",
     "output_type": "stream",
     "text": [
      "/home/love/.local/lib/python3.10/site-packages/sklearn/base.py:376: InconsistentVersionWarning: Trying to unpickle estimator DecisionTreeClassifier from version 1.4.1.post1 when using version 1.5.1. This might lead to breaking code or invalid results. Use at your own risk. For more info please refer to:\n",
      "https://scikit-learn.org/stable/model_persistence.html#security-maintainability-limitations\n",
      "  warnings.warn(\n",
      "/home/love/.local/lib/python3.10/site-packages/sklearn/base.py:376: InconsistentVersionWarning: Trying to unpickle estimator RandomForestClassifier from version 1.4.1.post1 when using version 1.5.1. This might lead to breaking code or invalid results. Use at your own risk. For more info please refer to:\n",
      "https://scikit-learn.org/stable/model_persistence.html#security-maintainability-limitations\n",
      "  warnings.warn(\n",
      "/home/love/.local/lib/python3.10/site-packages/sklearn/base.py:376: InconsistentVersionWarning: Trying to unpickle estimator KNeighborsClassifier from version 1.4.1.post1 when using version 1.5.1. This might lead to breaking code or invalid results. Use at your own risk. For more info please refer to:\n",
      "https://scikit-learn.org/stable/model_persistence.html#security-maintainability-limitations\n",
      "  warnings.warn(\n",
      "/home/love/.local/lib/python3.10/site-packages/sklearn/base.py:376: InconsistentVersionWarning: Trying to unpickle estimator DummyClassifier from version 1.4.1.post1 when using version 1.5.1. This might lead to breaking code or invalid results. Use at your own risk. For more info please refer to:\n",
      "https://scikit-learn.org/stable/model_persistence.html#security-maintainability-limitations\n",
      "  warnings.warn(\n",
      "/home/love/.local/lib/python3.10/site-packages/sklearn/base.py:376: InconsistentVersionWarning: Trying to unpickle estimator DecisionTreeRegressor from version 1.4.1.post1 when using version 1.5.1. This might lead to breaking code or invalid results. Use at your own risk. For more info please refer to:\n",
      "https://scikit-learn.org/stable/model_persistence.html#security-maintainability-limitations\n",
      "  warnings.warn(\n",
      "/home/love/.local/lib/python3.10/site-packages/sklearn/base.py:376: InconsistentVersionWarning: Trying to unpickle estimator GradientBoostingClassifier from version 1.4.1.post1 when using version 1.5.1. This might lead to breaking code or invalid results. Use at your own risk. For more info please refer to:\n",
      "https://scikit-learn.org/stable/model_persistence.html#security-maintainability-limitations\n",
      "  warnings.warn(\n",
      "/home/love/.local/lib/python3.10/site-packages/sklearn/base.py:376: InconsistentVersionWarning: Trying to unpickle estimator SVC from version 1.4.1.post1 when using version 1.5.1. This might lead to breaking code or invalid results. Use at your own risk. For more info please refer to:\n",
      "https://scikit-learn.org/stable/model_persistence.html#security-maintainability-limitations\n",
      "  warnings.warn(\n",
      "/home/love/.local/lib/python3.10/site-packages/sklearn/base.py:376: InconsistentVersionWarning: Trying to unpickle estimator LabelEncoder from version 1.4.1.post1 when using version 1.5.1. This might lead to breaking code or invalid results. Use at your own risk. For more info please refer to:\n",
      "https://scikit-learn.org/stable/model_persistence.html#security-maintainability-limitations\n",
      "  warnings.warn(\n",
      "/home/love/.local/lib/python3.10/site-packages/sklearn/base.py:376: InconsistentVersionWarning: Trying to unpickle estimator VotingClassifier from version 1.4.1.post1 when using version 1.5.1. This might lead to breaking code or invalid results. Use at your own risk. For more info please refer to:\n",
      "https://scikit-learn.org/stable/model_persistence.html#security-maintainability-limitations\n",
      "  warnings.warn(\n"
     ]
    },
    {
     "name": "stdout",
     "output_type": "stream",
     "text": [
      "Combined Model Accuracy: 0.6293726510552182\n"
     ]
    }
   ],
   "source": [
    "import pandas as pd\n",
    "import numpy as np\n",
    "import joblib\n",
    "from sklearn.ensemble import RandomForestClassifier\n",
    "from sklearn.metrics import accuracy_score\n",
    "from sklearn.utils import resample\n",
    "\n",
    "# Function to load models\n",
    "def load_models():\n",
    "    model_EOG = joblib.load('EOG_ensemble_model.sav')\n",
    "    model_EMG = joblib.load('EMG_ensemble_model.sav')\n",
    "    tsne_eog = joblib.load('tsne_eog.sav')\n",
    "    tsne_emg = joblib.load('tsne_emg.sav')\n",
    "    return model_EOG, model_EMG, tsne_eog, tsne_emg\n",
    "\n",
    "# Function to preprocess input using t-SNE\n",
    "def preprocess_with_tsne(data, tsne_model):\n",
    "    return tsne_model.fit_transform(data)\n",
    "\n",
    "# Function to downsample data\n",
    "def downsample_data(data, target_size):\n",
    "    return resample(data, n_samples=target_size, random_state=42)\n",
    "\n",
    "# Function to classify input\n",
    "def classify_input(X_input_eog, X_input_emg, y_test_combined):\n",
    "    # Load models and t-SNE\n",
    "    model_EOG, model_EMG, tsne_eog, tsne_emg = load_models()\n",
    "\n",
    "    # Downsample the input EMG data to match the size of EOG data\n",
    "    X_input_emg_downsampled = downsample_data(X_input_emg, len(X_input_eog))\n",
    "\n",
    "    # Preprocess the input using t-SNE\n",
    "    X_input_eog_tsne = preprocess_with_tsne(X_input_eog, tsne_eog)\n",
    "    X_input_emg_tsne = preprocess_with_tsne(X_input_emg_downsampled, tsne_emg)\n",
    "\n",
    "    # Predict using each model\n",
    "    pred_EOG = model_EOG.predict(X_input_eog_tsne)\n",
    "    pred_EMG = model_EMG.predict(X_input_emg_tsne)\n",
    "\n",
    "    # Create meta-features by stacking the predictions\n",
    "    meta_features = np.column_stack((pred_EOG, pred_EMG))\n",
    "\n",
    "    # Train a meta-classifier\n",
    "    meta_classifier = RandomForestClassifier(random_state=42)\n",
    "    meta_classifier.fit(meta_features, y_test_combined[:len(meta_features)])  # Use only matching size of y_test_combined\n",
    "\n",
    "    # Save the meta-classifier\n",
    "    with open('meta_classifier.sav', 'wb') as file:\n",
    "        pickle.dump(meta_classifier, file)\n",
    "\n",
    "    # Predict using the meta-classifier\n",
    "    final_predictions = meta_classifier.predict(meta_features)\n",
    "\n",
    "    return final_predictions\n",
    "\n",
    "# Example usage\n",
    "# Assuming you have the EOG and EMG data\n",
    "df=pd.read_excel('EOGsignal.xlsx').iloc[:, 1:]\n",
    "# Rename the columns\n",
    "new_column_names = ['f' + str(i) for i in range(0, 24)] + ['class']\n",
    "df.columns = new_column_names\n",
    "\n",
    "eog_test_data = df.values\n",
    "emg_test_data = pd.read_csv('EMGF1.csv').values\n",
    "y_test_combined = np.load('y_test_combined.npy')\n",
    "\n",
    "predictions = classify_input(eog_test_data, emg_test_data, y_test_combined)\n",
    "\n",
    "# Evaluate the performance\n",
    "accuracy = accuracy_score(y_test_combined[:len(predictions)], predictions)\n",
    "print(f'Combined Model Accuracy: {accuracy}')\n",
    "\n"
   ]
  },
  {
   "cell_type": "markdown",
   "metadata": {},
   "source": [
    "**With new dataset**"
   ]
  },
  {
   "cell_type": "markdown",
   "metadata": {},
   "source": [
    "**Saving Labels**"
   ]
  },
  {
   "cell_type": "code",
   "execution_count": 27,
   "metadata": {},
   "outputs": [],
   "source": [
    "import pandas as pd\n",
    "from sklearn.model_selection import train_test_split\n",
    "from sklearn.ensemble import RandomForestClassifier\n",
    "from sklearn.metrics import accuracy_score\n",
    "from sklearn.manifold import TSNE\n",
    "import pickle\n",
    "import numpy as np\n",
    "\n",
    "# Load datasets\n",
    "# Assuming you have the EOG and EMG data\n",
    "df=pd.read_excel('EOGsignal.xlsx').iloc[:, 1:]\n",
    "# Rename the columns\n",
    "new_column_names = ['f' + str(i) for i in range(0, 24)] + ['class']\n",
    "df.columns = new_column_names\n",
    "\n",
    "eog_data = df\n",
    "emg_data = pd.read_csv('EMGF1.csv')\n",
    "\n",
    "# Assuming the last column is the label for both datasets\n",
    "X_eog = eog_data.iloc[:, :-1].values\n",
    "y_eog = eog_data.iloc[:, -1].values\n",
    "\n",
    "X_emg = emg_data.iloc[:, :-1].values\n",
    "y_emg = emg_data.iloc[:, -1].values\n",
    "\n",
    "# Split into train and test sets\n",
    "X_eog_train, X_eog_test, y_eog_train, y_eog_test = train_test_split(X_eog, y_eog, test_size=0.1, random_state=42)\n",
    "X_emg_train, X_emg_test, y_emg_train, y_emg_test = train_test_split(X_emg, y_emg, test_size=0.2, random_state=42)\n",
    "\n",
    "# Save the test labels\n",
    "y_test_combined = np.concatenate((y_eog_test, y_emg_test))\n",
    "np.save('y_test_combined.npy', y_test_combined)\n"
   ]
  },
  {
   "cell_type": "markdown",
   "metadata": {},
   "source": [
    "**Saving the preprocessed data**"
   ]
  },
  {
   "cell_type": "code",
   "execution_count": 23,
   "metadata": {},
   "outputs": [
    {
     "data": {
      "text/plain": [
       "['tsne_emg.sav']"
      ]
     },
     "execution_count": 23,
     "metadata": {},
     "output_type": "execute_result"
    }
   ],
   "source": [
    "from sklearn.manifold import TSNE\n",
    "import joblib\n",
    "\n",
    "# Assuming you have the EOG and EMG data\n",
    "df=pd.read_excel('EOGsignal.xlsx').iloc[:, 1:]\n",
    "# Rename the columns\n",
    "new_column_names = ['f' + str(i) for i in range(0, 24)] + ['class']\n",
    "df.columns = new_column_names\n",
    "\n",
    "eog_data = df.values\n",
    "emg_data = pd.read_csv('EMGF1.csv').values\n",
    "\n",
    "# Fit the t-SNE models\n",
    "tsne_eog = TSNE(n_components=3, random_state=42)\n",
    "tsne_eog.fit(eog_data)\n",
    "\n",
    "tsne_emg = TSNE(n_components=3, random_state=42)\n",
    "tsne_emg.fit(emg_data)\n",
    "\n",
    "# Save the t-SNE models\n",
    "joblib.dump(tsne_eog, 'tsne_eog.sav')\n",
    "joblib.dump(tsne_emg, 'tsne_emg.sav')\n"
   ]
  },
  {
   "cell_type": "code",
   "execution_count": 25,
   "metadata": {},
   "outputs": [
    {
     "data": {
      "text/plain": [
       "['tsne_eog.sav']"
      ]
     },
     "execution_count": 25,
     "metadata": {},
     "output_type": "execute_result"
    }
   ],
   "source": [
    "joblib.dump(tsne_eog, 'tsne_eog.sav')"
   ]
  },
  {
   "cell_type": "markdown",
   "metadata": {},
   "source": [
    "**Using SVC**"
   ]
  },
  {
   "cell_type": "code",
   "execution_count": 29,
   "metadata": {},
   "outputs": [
    {
     "name": "stdout",
     "output_type": "stream",
     "text": [
      "Combined Model Accuracy: 0.6293726510552182\n"
     ]
    }
   ],
   "source": [
    "import pandas as pd\n",
    "import numpy as np\n",
    "import joblib\n",
    "from sklearn.ensemble import RandomForestClassifier\n",
    "from sklearn.metrics import accuracy_score\n",
    "from sklearn.utils import resample\n",
    "import pickle\n",
    "from sklearn.svm import SVC\n",
    "from sklearn.neighbors import KNeighborsClassifier\n",
    "\n",
    "# Function to load models\n",
    "def load_models():\n",
    "    model_EOG = joblib.load('eog_random_forest_model.sav')\n",
    "    model_EMG = joblib.load('random_forest_model.sav')\n",
    "    tsne_eog = joblib.load('tsne_eog.sav')\n",
    "    tsne_emg = joblib.load('tsne_emg.sav')\n",
    "    return model_EOG, model_EMG, tsne_eog, tsne_emg\n",
    "\n",
    "# Function to preprocess input using t-SNE\n",
    "def preprocess_with_tsne(data, tsne_model):\n",
    "    return tsne_model.fit_transform(data)\n",
    "\n",
    "# Function to downsample data\n",
    "def downsample_data(data, target_size):\n",
    "    return resample(data, n_samples=target_size, random_state=42)\n",
    "\n",
    "# Function to classify input\n",
    "def classify_input(X_input_eog, X_input_emg, y_test_combined):\n",
    "    # Load models and t-SNE\n",
    "    model_EOG, model_EMG, tsne_eog, tsne_emg = load_models()\n",
    "\n",
    "    # Downsample the input EMG data to match the size of EOG data\n",
    "    X_input_emg_downsampled = downsample_data(X_input_emg, len(X_input_eog))\n",
    "\n",
    "    # Preprocess the input using t-SNE\n",
    "    X_input_eog_tsne = preprocess_with_tsne(X_input_eog, tsne_eog)\n",
    "    X_input_emg_tsne = preprocess_with_tsne(X_input_emg_downsampled, tsne_emg)\n",
    "\n",
    "    # Predict using each model\n",
    "    pred_EOG = model_EOG.predict(X_input_eog_tsne)\n",
    "    pred_EMG = model_EMG.predict(X_input_emg_tsne)\n",
    "\n",
    "    # Create meta-features by stacking the predictions\n",
    "    meta_features = np.column_stack((pred_EOG, pred_EMG))\n",
    "\n",
    "    # Train a meta-classifier\n",
    "    meta_classifier =SVC()\n",
    "    meta_classifier.fit(meta_features, y_test_combined[:len(meta_features)])  # Use only matching size of y_test_combined\n",
    "\n",
    "    # Save the meta-classifier\n",
    "    with open('meta_classifier.sav', 'wb') as file:\n",
    "        pickle.dump(meta_classifier, file)\n",
    "\n",
    "    # Predict using the meta-classifier\n",
    "    final_predictions = meta_classifier.predict(meta_features)\n",
    "\n",
    "    return final_predictions\n",
    "\n",
    "# Example usage\n",
    "# Assuming you have the EOG and EMG data\n",
    "df=pd.read_excel('EOGsignal.xlsx').iloc[:, 1:]\n",
    "# Rename the columns\n",
    "new_column_names = ['f' + str(i) for i in range(0, 24)] + ['class']\n",
    "df.columns = new_column_names\n",
    "\n",
    "eog_test_data = df.values\n",
    "\n",
    "emg_test_data = pd.read_csv('EMGF1.csv').values\n",
    "y_test_combined = np.load('y_test_combined.npy')\n",
    "\n",
    "predictions = classify_input(eog_test_data, emg_test_data, y_test_combined)\n",
    "\n",
    "# Evaluate the performance\n",
    "accuracy = accuracy_score(y_test_combined[:len(predictions)], predictions)\n",
    "print(f'Combined Model Accuracy: {accuracy}')\n",
    "\n",
    "\n"
   ]
  },
  {
   "cell_type": "markdown",
   "metadata": {},
   "source": [
    "**Using RandomForest**"
   ]
  },
  {
   "cell_type": "code",
   "execution_count": 28,
   "metadata": {},
   "outputs": [
    {
     "name": "stdout",
     "output_type": "stream",
     "text": [
      "Combined Model Accuracy: 0.6293726510552182\n"
     ]
    }
   ],
   "source": [
    "import pandas as pd\n",
    "import numpy as np\n",
    "import joblib\n",
    "from sklearn.ensemble import RandomForestClassifier\n",
    "from sklearn.metrics import accuracy_score\n",
    "from sklearn.utils import resample\n",
    "import pickle\n",
    "from sklearn.svm import SVC\n",
    "from sklearn.neighbors import KNeighborsClassifier\n",
    "\n",
    "# Function to load models\n",
    "def load_models():\n",
    "    model_EOG = joblib.load('eog_random_forest_model.sav')\n",
    "    model_EMG = joblib.load('random_forest_model.sav')\n",
    "    tsne_eog = joblib.load('tsne_eog.sav')\n",
    "    tsne_emg = joblib.load('tsne_emg.sav')\n",
    "    return model_EOG, model_EMG, tsne_eog, tsne_emg\n",
    "\n",
    "# Function to preprocess input using t-SNE\n",
    "def preprocess_with_tsne(data, tsne_model):\n",
    "    return tsne_model.fit_transform(data)\n",
    "\n",
    "# Function to downsample data\n",
    "def downsample_data(data, target_size):\n",
    "    return resample(data, n_samples=target_size, random_state=42)\n",
    "\n",
    "# Function to classify input\n",
    "def classify_input(X_input_eog, X_input_emg, y_test_combined):\n",
    "    # Load models and t-SNE\n",
    "    model_EOG, model_EMG, tsne_eog, tsne_emg = load_models()\n",
    "\n",
    "    # Downsample the input EMG data to match the size of EOG data\n",
    "    X_input_emg_downsampled = downsample_data(X_input_emg, len(X_input_eog))\n",
    "\n",
    "    # Preprocess the input using t-SNE\n",
    "    X_input_eog_tsne = preprocess_with_tsne(X_input_eog, tsne_eog)\n",
    "    X_input_emg_tsne = preprocess_with_tsne(X_input_emg_downsampled, tsne_emg)\n",
    "\n",
    "    # Predict using each model\n",
    "    pred_EOG = model_EOG.predict(X_input_eog_tsne)\n",
    "    pred_EMG = model_EMG.predict(X_input_emg_tsne)\n",
    "\n",
    "    # Create meta-features by stacking the predictions\n",
    "    meta_features = np.column_stack((pred_EOG, pred_EMG))\n",
    "\n",
    "    # Train a meta-classifier\n",
    "    meta_classifier =RandomForestClassifier(random_state=42)\n",
    "    meta_classifier.fit(meta_features, y_test_combined[:len(meta_features)])  # Use only matching size of y_test_combined\n",
    "\n",
    "    # Save the meta-classifier\n",
    "    with open('meta_classifier.sav', 'wb') as file:\n",
    "        pickle.dump(meta_classifier, file)\n",
    "\n",
    "    # Predict using the meta-classifier\n",
    "    final_predictions = meta_classifier.predict(meta_features)\n",
    "\n",
    "    return final_predictions\n",
    "\n",
    "# Example usage\n",
    "# Assuming you have the EOG and EMG data\n",
    "df=pd.read_excel('EOGsignal.xlsx').iloc[:, 1:]\n",
    "# Rename the columns\n",
    "new_column_names = ['f' + str(i) for i in range(0, 24)] + ['class']\n",
    "df.columns = new_column_names\n",
    "\n",
    "eog_test_data = df.values\n",
    "\n",
    "emg_test_data = pd.read_csv('EMGF1.csv').values\n",
    "y_test_combined = np.load('y_test_combined.npy')\n",
    "\n",
    "predictions = classify_input(eog_test_data, emg_test_data, y_test_combined)\n",
    "\n",
    "# Evaluate the performance\n",
    "accuracy = accuracy_score(y_test_combined[:len(predictions)], predictions)\n",
    "print(f'Combined Model Accuracy: {accuracy}')\n",
    "\n"
   ]
  }
 ],
 "metadata": {
  "kernelspec": {
   "display_name": "Python 3 (ipykernel)",
   "language": "python",
   "name": "python3"
  },
  "language_info": {
   "codemirror_mode": {
    "name": "ipython",
    "version": 3
   },
   "file_extension": ".py",
   "mimetype": "text/x-python",
   "name": "python",
   "nbconvert_exporter": "python",
   "pygments_lexer": "ipython3",
   "version": "3.10.4"
  }
 },
 "nbformat": 4,
 "nbformat_minor": 2
}
